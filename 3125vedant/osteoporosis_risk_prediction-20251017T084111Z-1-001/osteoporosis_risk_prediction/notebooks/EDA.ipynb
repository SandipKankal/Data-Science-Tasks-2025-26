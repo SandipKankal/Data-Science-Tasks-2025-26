# notebooks/EDA.ipynb

import pandas as pd
import seaborn as sns
import matplotlib.pyplot as plt

df = pd.read_csv("../data/patients_data.csv")

print(df.head())
print(df.info())
print(df.describe())

# Check missing values
print(df.isnull().sum())

# Visualize distributions
sns.histplot(df['age'])
plt.show()

# Correlation heatmap
sns.heatmap(df.corr(), annot=True, cmap="coolwarm")
plt.show()
