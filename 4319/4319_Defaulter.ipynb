{
  "nbformat": 4,
  "nbformat_minor": 0,
  "metadata": {
    "colab": {
      "provenance": []
    },
    "kernelspec": {
      "name": "python3",
      "display_name": "Python 3"
    },
    "language_info": {
      "name": "python"
    }
  },
  "cells": [
    {
      "cell_type": "markdown",
      "source": [
        "Use Car Evaluation data set from UCI repository. Predict the safety of the car. Use following algorithms:\n",
        "Logistic Regression, Decision Tree, Random Forest, SVM, KNN"
      ],
      "metadata": {
        "id": "kQNck-2eGEj-"
      }
    },
    {
      "cell_type": "code",
      "execution_count": null,
      "metadata": {
        "colab": {
          "base_uri": "https://localhost:8080/"
        },
        "id": "8pBzcsqdpc9_",
        "outputId": "a1c301d2-ec16-47ae-8819-4d36921ac9bd"
      },
      "outputs": [
        {
          "output_type": "stream",
          "name": "stdout",
          "text": [
            "\n",
            "Logistic Regression Accuracy: 0.66\n",
            "              precision    recall  f1-score   support\n",
            "\n",
            "           0       0.30      0.18      0.22       118\n",
            "           1       0.00      0.00      0.00        19\n",
            "           2       0.73      0.90      0.81       358\n",
            "           3       0.14      0.04      0.06        24\n",
            "\n",
            "    accuracy                           0.66       519\n",
            "   macro avg       0.29      0.28      0.27       519\n",
            "weighted avg       0.58      0.66      0.61       519\n",
            "\n",
            "\n",
            "Decision Tree Accuracy: 0.97\n",
            "              precision    recall  f1-score   support\n",
            "\n",
            "           0       0.93      0.94      0.94       118\n",
            "           1       0.71      0.89      0.79        19\n",
            "           2       1.00      0.99      0.99       358\n",
            "           3       0.90      0.79      0.84        24\n",
            "\n",
            "    accuracy                           0.97       519\n",
            "   macro avg       0.89      0.90      0.89       519\n",
            "weighted avg       0.97      0.97      0.97       519\n",
            "\n"
          ]
        },
        {
          "output_type": "stream",
          "name": "stderr",
          "text": [
            "/usr/local/lib/python3.12/dist-packages/sklearn/metrics/_classification.py:1565: UndefinedMetricWarning: Precision is ill-defined and being set to 0.0 in labels with no predicted samples. Use `zero_division` parameter to control this behavior.\n",
            "  _warn_prf(average, modifier, f\"{metric.capitalize()} is\", len(result))\n",
            "/usr/local/lib/python3.12/dist-packages/sklearn/metrics/_classification.py:1565: UndefinedMetricWarning: Precision is ill-defined and being set to 0.0 in labels with no predicted samples. Use `zero_division` parameter to control this behavior.\n",
            "  _warn_prf(average, modifier, f\"{metric.capitalize()} is\", len(result))\n",
            "/usr/local/lib/python3.12/dist-packages/sklearn/metrics/_classification.py:1565: UndefinedMetricWarning: Precision is ill-defined and being set to 0.0 in labels with no predicted samples. Use `zero_division` parameter to control this behavior.\n",
            "  _warn_prf(average, modifier, f\"{metric.capitalize()} is\", len(result))\n"
          ]
        },
        {
          "output_type": "stream",
          "name": "stdout",
          "text": [
            "\n",
            "Random Forest Accuracy: 0.97\n",
            "              precision    recall  f1-score   support\n",
            "\n",
            "           0       0.93      0.93      0.93       118\n",
            "           1       0.70      0.84      0.76        19\n",
            "           2       1.00      0.99      1.00       358\n",
            "           3       0.91      0.88      0.89        24\n",
            "\n",
            "    accuracy                           0.97       519\n",
            "   macro avg       0.89      0.91      0.90       519\n",
            "weighted avg       0.97      0.97      0.97       519\n",
            "\n",
            "\n",
            "SVM Accuracy: 0.89\n",
            "              precision    recall  f1-score   support\n",
            "\n",
            "           0       0.82      0.70      0.76       118\n",
            "           1       1.00      0.21      0.35        19\n",
            "           2       0.91      0.99      0.95       358\n",
            "           3       0.88      0.88      0.88        24\n",
            "\n",
            "    accuracy                           0.89       519\n",
            "   macro avg       0.90      0.70      0.73       519\n",
            "weighted avg       0.89      0.89      0.88       519\n",
            "\n",
            "\n",
            "KNN Accuracy: 0.91\n",
            "              precision    recall  f1-score   support\n",
            "\n",
            "           0       0.86      0.75      0.81       118\n",
            "           1       0.71      0.53      0.61        19\n",
            "           2       0.92      1.00      0.96       358\n",
            "           3       1.00      0.67      0.80        24\n",
            "\n",
            "    accuracy                           0.91       519\n",
            "   macro avg       0.88      0.74      0.79       519\n",
            "weighted avg       0.91      0.91      0.90       519\n",
            "\n"
          ]
        }
      ],
      "source": [
        "# Program 11: Car Evaluation Dataset\n",
        "# Algorithms: Logistic Regression, Decision Tree, Random Forest, SVM, KNN\n",
        "\n",
        "import pandas as pd\n",
        "from sklearn.model_selection import train_test_split\n",
        "from sklearn.preprocessing import LabelEncoder\n",
        "from sklearn.metrics import accuracy_score, classification_report\n",
        "from sklearn.linear_model import LogisticRegression\n",
        "from sklearn.tree import DecisionTreeClassifier\n",
        "from sklearn.ensemble import RandomForestClassifier\n",
        "from sklearn.svm import SVC\n",
        "from sklearn.neighbors import KNeighborsClassifier\n",
        "\n",
        "# Load dataset (download from: https://archive.ics.uci.edu/ml/datasets/car+evaluation)\n",
        "url = \"https://archive.ics.uci.edu/ml/machine-learning-databases/car/car.data\"\n",
        "columns = ['buying', 'maint', 'doors', 'persons', 'lug_boot', 'safety', 'class']\n",
        "data = pd.read_csv(url, names=columns)\n",
        "\n",
        "# Encode categorical data\n",
        "le = LabelEncoder()\n",
        "for col in data.columns:\n",
        "    data[col] = le.fit_transform(data[col])\n",
        "\n",
        "# Split dataset\n",
        "X = data.drop('class', axis=1)\n",
        "y = data['class']\n",
        "X_train, X_test, y_train, y_test = train_test_split(X, y, test_size=0.3, random_state=42)\n",
        "\n",
        "# Models\n",
        "models = {\n",
        "    \"Logistic Regression\": LogisticRegression(max_iter=200),\n",
        "    \"Decision Tree\": DecisionTreeClassifier(),\n",
        "    \"Random Forest\": RandomForestClassifier(),\n",
        "    \"SVM\": SVC(),\n",
        "    \"KNN\": KNeighborsClassifier()\n",
        "}\n",
        "\n",
        "# Train and evaluate\n",
        "for name, model in models.items():\n",
        "    model.fit(X_train, y_train)\n",
        "    y_pred = model.predict(X_test)\n",
        "    print(f\"\\n{name} Accuracy: {accuracy_score(y_test, y_pred):.2f}\")\n",
        "    print(classification_report(y_test, y_pred))\n"
      ]
    }
  ]
}